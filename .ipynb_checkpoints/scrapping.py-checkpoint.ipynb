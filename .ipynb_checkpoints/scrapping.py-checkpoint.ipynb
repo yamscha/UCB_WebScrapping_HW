{
 "cells": [
  {
   "cell_type": "markdown",
   "metadata": {},
   "source": [
    "# Flask application"
   ]
  },
  {
   "cell_type": "code",
   "execution_count": null,
   "metadata": {},
   "outputs": [],
   "source": [
    "#Start by converting your Jupyter notebook into a Python script called\n",
    "#`scrape_mars.py` with a function called `scrape` that will execute all of your scraping code from above and return \n",
    "#one Python dictionary containing all of the scraped data.\n"
   ]
  },
  {
   "cell_type": "code",
   "execution_count": 1,
   "metadata": {},
   "outputs": [],
   "source": [
    "from selenium import webdriver\n",
    "from bs4 import BeautifulSoup\n",
    "import requests\n",
    "import os"
   ]
  },
  {
   "cell_type": "code",
   "execution_count": 2,
   "metadata": {},
   "outputs": [],
   "source": [
    "driver= webdriver.Chrome('C:/Users/renuka/Desktop/chromedriver.exe')"
   ]
  },
  {
   "cell_type": "code",
   "execution_count": 3,
   "metadata": {},
   "outputs": [
    {
     "name": "stdout",
     "output_type": "stream",
     "text": [
      "Sol 2030 (April 22, 2018), Sunny, high -4C/24F, low -73C/-99F, pressure at 7.21 hPa, daylight 05:25-17:21\n"
     ]
    }
   ],
   "source": [
    "#creating a scrape function to extract the tweets latest mars weather news from twitter page using beautiful soup.\n",
    "def scrape():\n",
    "    url= \"https://twitter.com/marswxreport?lang=en\"\n",
    "    r = requests.get(url)\n",
    "    soup = BeautifulSoup(r.text, \"html.parser\")\n",
    "    my_listings = soup.find('p',class_='TweetTextSize').get_text()\n",
    "    return my_listings\n",
    "if __name__ == \"__main__\":\n",
    "    print(scrape())"
   ]
  },
  {
   "cell_type": "code",
   "execution_count": 4,
   "metadata": {},
   "outputs": [],
   "source": [
    "# saved mars image in static folder, using os.path.join method grapping image and created in image_folder variable.\n",
    "image_folder = os.path.join('static')"
   ]
  },
  {
   "cell_type": "code",
   "execution_count": 5,
   "metadata": {},
   "outputs": [],
   "source": [
    "# created soup3 object to extract mars nasa gov news\n",
    "driver.get('https://mars.nasa.gov/news/')\n",
    "#response = requests.get()\n",
    "soup3 = BeautifulSoup(driver.page_source,\"lxml\")\n",
    "driver.quit()"
   ]
  },
  {
   "cell_type": "code",
   "execution_count": 6,
   "metadata": {},
   "outputs": [],
   "source": [
    "# scrapping title from the mars gov news and created a list to append each title, using soup\n",
    "title_list =[]\n",
    "for item in soup3.find_all('div',class_='list_text'):\n",
    "    title = item.find_all('div',class_='content_title')[0].text\n",
    "    title_list.append(title)\n",
    "    #print(title)"
   ]
  },
  {
   "cell_type": "code",
   "execution_count": null,
   "metadata": {},
   "outputs": [],
   "source": [
    "#title_list"
   ]
  },
  {
   "cell_type": "code",
   "execution_count": 7,
   "metadata": {},
   "outputs": [],
   "source": [
    "#scrapping paragraph from the mars gov news and created a list to append each paragraph\n",
    "para_list =[]\n",
    "for item in soup3.select('.list_text'):\n",
    "    para = item.select('.article_teaser_body')[0].text\n",
    "    para_list.append(para)"
   ]
  },
  {
   "cell_type": "code",
   "execution_count": null,
   "metadata": {},
   "outputs": [],
   "source": [
    "#para_list[8]"
   ]
  },
  {
   "cell_type": "code",
   "execution_count": null,
   "metadata": {},
   "outputs": [],
   "source": [
    "#import pandas as pd"
   ]
  },
  {
   "cell_type": "code",
   "execution_count": 8,
   "metadata": {},
   "outputs": [],
   "source": [
    "#imported flask and render_template \n",
    "from flask import Flask,render_template\n",
    "from flask import jsonify\n",
    "#from scrapping import scrape\n",
    "# created app object and app.config for image\n",
    "app = Flask(__name__)\n",
    "app.config['UPLOAD_FOLDER'] = image_folder"
   ]
  },
  {
   "cell_type": "code",
   "execution_count": null,
   "metadata": {},
   "outputs": [],
   "source": []
  },
  {
   "cell_type": "code",
   "execution_count": 9,
   "metadata": {},
   "outputs": [
    {
     "name": "stderr",
     "output_type": "stream",
     "text": [
      " * Running on http://127.0.0.1:5000/ (Press CTRL+C to quit)\n",
      "127.0.0.1 - - [25/Apr/2018 18:28:11] \"GET / HTTP/1.1\" 200 -\n"
     ]
    }
   ],
   "source": [
    "#Create a root route `/` that will query your Mongo database and pass the mars data into an HTML template to display the data.\n",
    "@app.route('/')\n",
    "def index():\n",
    "    #return jsonify(my_listings=scrape())\n",
    "    url_image = os.path.join(app.config['UPLOAD_FOLDER'], 'full.jpg')\n",
    "    return render_template(\"tweet.html\", my_listings1=scrape(),url = url_image,\n",
    "                           news_title_0= title_list[0],\n",
    "                           news_para_0 = para_list[0],\n",
    "                           news_title_1 = title_list[1],\n",
    "                          news_para_1 = para_list[1],\n",
    "                          news_title_2= title_list[2],\n",
    "                           news_para_2 = para_list[2],\n",
    "                          news_title_3= title_list[3],\n",
    "                           news_para_3 = para_list[3],\n",
    "                          news_title_4= title_list[4],\n",
    "                           news_para_4 = para_list[4],\n",
    "                          news_title_5= title_list[5],\n",
    "                           news_para_5 = para_list[5],\n",
    "                          news_title_6= title_list[6],\n",
    "                           news_para_6 = para_list[6])\n",
    "    #return render_template(\"tweet.html\",list_dict=list_to_dict)\n",
    "    #return render_template(\"tweet.html\",title_list=scrape1())\n",
    "if __name__ == \"__main__\":\n",
    "    app.run(debug=False)"
   ]
  },
  {
   "cell_type": "code",
   "execution_count": null,
   "metadata": {},
   "outputs": [],
   "source": []
  },
  {
   "cell_type": "code",
   "execution_count": null,
   "metadata": {},
   "outputs": [],
   "source": []
  }
 ],
 "metadata": {
  "kernelspec": {
   "display_name": "Python [conda env:pythondata]",
   "language": "python",
   "name": "conda-env-pythondata-py"
  },
  "language_info": {
   "codemirror_mode": {
    "name": "ipython",
    "version": 3
   },
   "file_extension": ".py",
   "mimetype": "text/x-python",
   "name": "python",
   "nbconvert_exporter": "python",
   "pygments_lexer": "ipython3",
   "version": "3.6.4"
  }
 },
 "nbformat": 4,
 "nbformat_minor": 2
}
